{
  "cells": [
    {
      "cell_type": "code",
      "execution_count": null,
      "metadata": {
        "id": "YWePLQUGTDWJ"
      },
      "outputs": [],
      "source": [
        "!pip install transformers\n"
      ]
    },
    {
      "cell_type": "code",
      "execution_count": null,
      "metadata": {
        "id": "CsCO4F5qCwCq",
        "colab": {
          "base_uri": "https://localhost:8080/"
        },
        "outputId": "0c8e320c-162d-48c6-891f-29ecb22a4246"
      },
      "outputs": [
        {
          "output_type": "stream",
          "name": "stderr",
          "text": [
            "No model was supplied, defaulted to distilbert-base-uncased-finetuned-sst-2-english and revision af0f99b (https://huggingface.co/distilbert-base-uncased-finetuned-sst-2-english).\n",
            "Using a pipeline without specifying a model name and revision in production is not recommended.\n"
          ]
        },
        {
          "output_type": "stream",
          "name": "stdout",
          "text": [
            "Enter your review text: achi dekh rehi hai\n",
            "Full Result: [{'label': 'POSITIVE', 'score': 0.9730018377304077}]\n",
            "Predicted Sentiment: POSITIVE\n",
            "Sentiment Probability: 97.30%\n"
          ]
        }
      ],
      "source": [
        "from transformers import pipeline\n",
        "\n",
        "def predict_sentiment_with_probabilities():\n",
        "    # Load pre-trained sentiment analysis model\n",
        "    classifier = pipeline('sentiment-analysis')\n",
        "\n",
        "    # Get user input for the review text\n",
        "    user_input = input(\"Enter your review text: \")\n",
        "\n",
        "    # Perform sentiment analysis\n",
        "    result = classifier(user_input)\n",
        "\n",
        "    # Extract sentiment label and probability scores from the result\n",
        "    predicted_sentiment = result[0]['label']\n",
        "    sentiment_probability = result[0]['score']\n",
        "\n",
        "    # Convert probability to percentage\n",
        "    sentiment_probability_percentage = sentiment_probability * 100\n",
        "\n",
        "    # Print the full result, including the probability scores\n",
        "    print(\"Full Result:\", result)\n",
        "\n",
        "    return predicted_sentiment, sentiment_probability_percentage\n",
        "\n",
        "# Example usage\n",
        "predicted_sentiment, sentiment_probability_percentage = predict_sentiment_with_probabilities()\n",
        "print(f\"Predicted Sentiment: {predicted_sentiment}\")\n",
        "print(f\"Sentiment Probability: {sentiment_probability_percentage:.2f}%\")\n"
      ]
    },
    {
      "cell_type": "code",
      "execution_count": null,
      "metadata": {
        "id": "3Jy_jFx8CpGE",
        "colab": {
          "base_uri": "https://localhost:8080/"
        },
        "outputId": "72de68be-7006-40fa-ad88-0691e3e46002"
      },
      "outputs": [
        {
          "output_type": "stream",
          "name": "stdout",
          "text": [
            "Enter your review text: bs neutral hai\n",
            "Full Result: [{'label': '3 stars', 'score': 0.29551559686660767}]\n",
            "Predicted Sentiment: 3 stars\n",
            "Sentiment Probability: 29.55%\n"
          ]
        }
      ],
      "source": [
        "from transformers import pipeline\n",
        "\n",
        "def predict_sentiment_with_probabilities():\n",
        "    # Load pre-trained sentiment analysis model with three classes\n",
        "    classifier = pipeline('sentiment-analysis', model=\"nlptown/bert-base-multilingual-uncased-sentiment\")\n",
        "\n",
        "    # Get user input for the review text\n",
        "    user_input = input(\"Enter your review text: \")\n",
        "\n",
        "    # Perform sentiment analysis\n",
        "    result = classifier(user_input)\n",
        "\n",
        "    # Extract sentiment label and probability scores from the result\n",
        "    predicted_sentiment = result[0]['label']\n",
        "    sentiment_probability = result[0]['score']\n",
        "\n",
        "    # Convert probability to percentage\n",
        "    sentiment_probability_percentage = sentiment_probability * 100\n",
        "\n",
        "    # Print the full result, including the probability scores\n",
        "    print(\"Full Result:\", result)\n",
        "\n",
        "    return predicted_sentiment, sentiment_probability_percentage\n",
        "\n",
        "# Example usage\n",
        "predicted_sentiment, sentiment_probability_percentage = predict_sentiment_with_probabilities()\n",
        "print(f\"Predicted Sentiment: {predicted_sentiment}\")\n",
        "print(f\"Sentiment Probability: {sentiment_probability_percentage:.2f}%\")\n"
      ]
    },
    {
      "cell_type": "code",
      "execution_count": null,
      "metadata": {
        "id": "XAIbTfucAYuE"
      },
      "outputs": [],
      "source": []
    },
    {
      "cell_type": "code",
      "source": [],
      "metadata": {
        "id": "9TopYn9jnsan"
      },
      "execution_count": null,
      "outputs": []
    }
  ],
  "metadata": {
    "colab": {
      "toc_visible": true,
      "provenance": []
    },
    "kernelspec": {
      "display_name": "Python 3",
      "name": "python3"
    },
    "language_info": {
      "name": "python"
    }
  },
  "nbformat": 4,
  "nbformat_minor": 0
}